{
 "cells": [
  {
   "cell_type": "code",
   "execution_count": 1,
   "id": "c2968515",
   "metadata": {},
   "outputs": [
    {
     "name": "stdout",
     "output_type": "stream",
     "text": [
      "The mapped data has been saved to the mapped_nursery.txt\n"
     ]
    }
   ],
   "source": [
    "import csv\n",
    "\n",
    "with open(\"census.txt\", \"r\") as file:\n",
    "    reader = csv.reader(file)\n",
    "    data = list(reader)\n",
    "\n",
    "\n",
    "mappings = {}\n",
    "\n",
    "\n",
    "for row in data:\n",
    "    for col in row:\n",
    "        if col not in mappings:\n",
    "            \n",
    "            mappings[col] = len(mappings) + 1\n",
    "\n",
    "\n",
    "mapped_data = []\n",
    "for row in data:\n",
    "    mapped_row = \" \".join([ str(mappings[col]) for col in row ])\n",
    "    mapped_data.append(mapped_row)\n",
    "\n",
    "\n",
    "with open(\"mapped_census.txt\", \"w\") as file:\n",
    "    file.write(\"\\n\".join(mapped_data))\n",
    "\n",
    "print(\"The mapped data has been saved to the mapped_nursery.txt\")\n"
   ]
  },
  {
   "cell_type": "code",
   "execution_count": null,
   "id": "5bbc1b19",
   "metadata": {},
   "outputs": [],
   "source": []
  }
 ],
 "metadata": {
  "kernelspec": {
   "display_name": "Python 3 (ipykernel)",
   "language": "python",
   "name": "python3"
  },
  "language_info": {
   "codemirror_mode": {
    "name": "ipython",
    "version": 3
   },
   "file_extension": ".py",
   "mimetype": "text/x-python",
   "name": "python",
   "nbconvert_exporter": "python",
   "pygments_lexer": "ipython3",
   "version": "3.9.12"
  }
 },
 "nbformat": 4,
 "nbformat_minor": 5
}
