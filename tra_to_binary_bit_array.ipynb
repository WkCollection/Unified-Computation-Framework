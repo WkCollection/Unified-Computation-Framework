{
 "cells": [
  {
   "cell_type": "code",
   "execution_count": 4,
   "id": "34a886f2",
   "metadata": {},
   "outputs": [],
   "source": [
    "def txt_to_binary_bit_array(filename, num_features=190):\n",
    " \n",
    "  with open(filename, 'r') as f:\n",
    "    for line in f:\n",
    "     \n",
    "      line = line.strip().split()\n",
    "     \n",
    "      bit_array = [0] * num_features\n",
    "      \n",
    "      for number in line:\n",
    "        bit_array[int(number) - 1] = 1\n",
    "      \n",
    "      yield bit_array\n",
    "\n",
    "def save_bit_array_to_txt(bit_array_generator, output_filename):\n",
    "  \n",
    "  with open(output_filename, 'w') as f:\n",
    "    for bit_array in bit_array_generator:\n",
    "      \n",
    "      f.write(' '.join(map(str, bit_array)) + '\\n')\n",
    "\n",
    "\n",
    "filename = \"SUSY.txt\"\n",
    "output_filename = \"SUSY_bit.txt\"\n",
    "bit_array_generator = txt_to_binary_bit_array(filename)\n",
    "\n",
    "\n",
    "save_bit_array_to_txt(bit_array_generator, output_filename)\n"
   ]
  },
  {
   "cell_type": "code",
   "execution_count": null,
   "id": "adf32f33",
   "metadata": {},
   "outputs": [],
   "source": []
  }
 ],
 "metadata": {
  "kernelspec": {
   "display_name": "Python 3 (ipykernel)",
   "language": "python",
   "name": "python3"
  },
  "language_info": {
   "codemirror_mode": {
    "name": "ipython",
    "version": 3
   },
   "file_extension": ".py",
   "mimetype": "text/x-python",
   "name": "python",
   "nbconvert_exporter": "python",
   "pygments_lexer": "ipython3",
   "version": "3.9.12"
  }
 },
 "nbformat": 4,
 "nbformat_minor": 5
}
